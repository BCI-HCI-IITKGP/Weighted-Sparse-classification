{
 "cells": [
  {
   "cell_type": "code",
   "execution_count": 4,
   "metadata": {
    "ExecuteTime": {
     "end_time": "2018-06-06T07:36:15.867793Z",
     "start_time": "2018-06-06T07:36:15.832799Z"
    }
   },
   "outputs": [],
   "source": [
    "#Five fold cross validation\n",
    "\n",
    "\n",
    "import numpy as np\n",
    "import pyedflib\n",
    "from matplotlib import pyplot as plt\n",
    "from nitime import utils\n",
    "from nitime import algorithms as alg\n",
    "from nitime.timeseries import TimeSeries\n",
    "from nitime.viz import plot_tseries\n",
    "import csv\n",
    "import pywt\n",
    "import scipy.stats as sp\n",
    "from sklearn.discriminant_analysis import LinearDiscriminantAnalysis as LDA\n",
    "from scipy import signal\n",
    "from spectrum import *\n",
    "from os import listdir\n",
    "from os.path import isfile, join\n",
    "from wyrm import processing as proc\n",
    "from wyrm.types import Data\n",
    "from wyrm.io import convert_mushu_data\n",
    "from sklearn import metrics\n",
    "from wyrm.processing import calculate_csp,segment_dat,apply_csp,append_epo\n",
    "from wyrm.processing import select_channels\n",
    "from wyrm.processing import swapaxes\n",
    "from sklearn.model_selection import train_test_split\n",
    "from sklearn.linear_model import OrthogonalMatchingPursuit\n",
    "from sklearn.linear_model import OrthogonalMatchingPursuitCV\n",
    "from sklearn.preprocessing import normalize"
   ]
  },
  {
   "cell_type": "code",
   "execution_count": 5,
   "metadata": {
    "ExecuteTime": {
     "end_time": "2018-06-06T07:36:16.040071Z",
     "start_time": "2018-06-06T07:36:15.872613Z"
    }
   },
   "outputs": [],
   "source": [
    "files1  = [f for f in listdir('/home/singh/projects/BCI/binary/Training data')]\n",
    "\n",
    "\n",
    "channels = ['Fp1', 'AFp1', 'Fpz', 'AFp2', 'Fp2', 'AF7', 'AF3', 'AF4', 'AF8', 'FAF5', 'FAF1', 'FAF2', 'FAF6', \n",
    "                'F7', 'F5', 'F3', 'F1', 'Fz', 'F2', 'F4', 'F6', 'F8', 'FFC7', 'FFC5', 'FFC3', 'FFC1', 'FFC2', 'FFC4', \n",
    "                'FFC6', 'FFC8', 'FT9', 'FT7', 'FC5', 'FC3', 'FC1', 'FCz', 'FC2', 'FC4', 'FC6', 'FT8', 'FT10', 'CFC7', \n",
    "                'CFC5', 'CFC3', 'CFC1', 'CFC2', 'CFC4', 'CFC6', 'CFC8', 'T7', 'C5', 'C3', 'C1', 'Cz', 'C2', 'C4', 'C6'\n",
    "                , 'T8', 'CCP7', 'CCP5', 'CCP3', 'CCP1', 'CCP2', 'CCP4', 'CCP6', 'CCP8', 'TP9', 'TP7', 'CP5', 'CP3', 'CP1',\n",
    "                'CPz', 'CP2', 'CP4', 'CP6', 'TP8', 'TP10', 'PCP7', 'PCP5', 'PCP3', 'PCP1', 'PCP2', 'PCP4', 'PCP6', 'PCP8', \n",
    "                'P9', 'P7', 'P5', 'P3', 'P1', 'Pz', 'P2', 'P4', 'P6', 'P8', 'P10', 'PPO7', 'PPO5', 'PPO1', 'PPO2', 'PPO6',\n",
    "                'PPO8', 'PO7', 'PO3', 'PO1', 'POz', 'PO2', 'PO4', 'PO8', 'OPO1', 'OPO2', 'O1', 'Oz', 'O2', 'OI1', 'OI2', \n",
    "                'I1', 'I2']"
   ]
  },
  {
   "cell_type": "code",
   "execution_count": 6,
   "metadata": {
    "ExecuteTime": {
     "end_time": "2018-06-06T07:36:16.196565Z",
     "start_time": "2018-06-06T07:36:16.049928Z"
    }
   },
   "outputs": [
    {
     "data": {
      "text/plain": [
       "['ay', 'aw', 'aa', 'al', 'av']"
      ]
     },
     "execution_count": 6,
     "metadata": {},
     "output_type": "execute_result"
    }
   ],
   "source": [
    "files1"
   ]
  },
  {
   "cell_type": "code",
   "execution_count": 7,
   "metadata": {
    "ExecuteTime": {
     "end_time": "2018-06-06T07:36:30.143846Z",
     "start_time": "2018-06-06T07:36:16.202891Z"
    }
   },
   "outputs": [],
   "source": [
    "#for 1st subject\n",
    "sub = 1\n",
    "training_data = '/home/singh/projects/BCI/binary/Training data/' + files1[sub] + '/data_set_IVa_' + files1[sub] + '_cnt.txt'\n",
    "markers       = '/home/singh/projects/BCI/binary/Training data/' + files1[sub] + '/data_set_IVa_' + files1[sub] + '_mrk.txt'\n",
    "    \n",
    "signal_array = [map(float,l.split()) for l in open(training_data).readlines()]\n",
    "    \n",
    "signal_array = np.array(signal_array)\n",
    "    \n",
    "marker_array = [map(str,l.split()) for l in open(markers).readlines()]\n",
    "        \n",
    "time = np.arange(len(signal_array))\n",
    "    \n",
    "train_markers1 = [(float(events[0]),str(events[1])) for events in marker_array if events[1]!= 0]\n",
    "\n",
    "\n",
    "for events in marker_array:\n",
    "    if events[1] != 0:\n",
    "        train_markers1.append((float(events[0]) + 50.0, str(events[1])))\n",
    "        train_markers1.append((float(events[0]) + 100.0, str(events[1])))\n",
    "        train_markers1.append((float(events[0]) + 150.0, str(events[1])))\n",
    "        train_markers1.append((float(events[0]) + 200.0, str(events[1])))\n",
    "        train_markers1.append((float(events[0]) + 250.0, str(events[1])))\n",
    "        train_markers1.append((float(events[0]) + 300.0, str(events[1])))\n",
    "        train_markers1.append((float(events[0]) + 350.0, str(events[1])))\n",
    "\n",
    "markers1 = np.array(train_markers1)\n",
    "\n",
    "y1 = [0] * len(markers1)\n",
    "\n",
    "\n",
    "markers_subject1_class_1 = [(float(events[0]),str(events[1])) for events in markers1 if events[1]== '1']\n",
    "markers_subject1_class_2 = [(float(events[0]),str(events[1])) for events in markers1 if events[1]== '2']\n",
    "\n",
    "\n",
    "cnt1 = convert_mushu_data(signal_array, markers_subject1_class_1,50,channels)\n",
    "cnt2 = convert_mushu_data(signal_array, markers_subject1_class_2,50,channels)\n",
    "    \n",
    "md = {'class 1': ['1'],'class 2': ['2']}\n",
    "    \n",
    "epoch_subject1_class1 = segment_dat(cnt1, md, [0, 1000])\n",
    "epoch_subject1_class2 = segment_dat(cnt2, md, [0, 1000])\n"
   ]
  },
  {
   "cell_type": "code",
   "execution_count": 8,
   "metadata": {
    "ExecuteTime": {
     "end_time": "2018-06-06T07:36:30.161933Z",
     "start_time": "2018-06-06T07:36:30.145837Z"
    }
   },
   "outputs": [],
   "source": [
    "# Appending all the different subject training epochs\n",
    "\n",
    "final_epoch = append_epo(epoch_subject1_class1,epoch_subject1_class2)\n"
   ]
  },
  {
   "cell_type": "code",
   "execution_count": 9,
   "metadata": {
    "ExecuteTime": {
     "end_time": "2018-06-06T07:36:31.998489Z",
     "start_time": "2018-06-06T07:36:30.164175Z"
    }
   },
   "outputs": [
    {
     "name": "stdout",
     "output_type": "stream",
     "text": [
      "(448, 50, 118)\n"
     ]
    }
   ],
   "source": [
    "print (final_epoch.data.shape)"
   ]
  },
  {
   "cell_type": "code",
   "execution_count": 10,
   "metadata": {
    "ExecuteTime": {
     "end_time": "2018-06-06T07:36:32.213799Z",
     "start_time": "2018-06-06T07:36:32.000657Z"
    }
   },
   "outputs": [],
   "source": [
    "####### FUNCTION TO FIND BAND POWERS ###########\n",
    "\n",
    "def bandpowers(segment):\n",
    "    features = []\n",
    "    for i in range(len(segment)):\n",
    "        f,Psd = signal.welch(segment[i,:], 100)\n",
    "        power1 = 0\n",
    "        power2 = 0\n",
    "        f1 = []\n",
    "        for j in range(0,len(f)):\n",
    "            if(f[j]>=4 and f[j]<=13):\n",
    "                power1 += Psd[j]\n",
    "            if(f[j]>=14 and f[j]<=30):\n",
    "                power2 += Psd[j]\n",
    "        features.append(power1)\n",
    "        features.append(power2)\n",
    "    return features"
   ]
  },
  {
   "cell_type": "code",
   "execution_count": 11,
   "metadata": {
    "ExecuteTime": {
     "end_time": "2018-06-06T07:36:32.665745Z",
     "start_time": "2018-06-06T07:36:32.217880Z"
    }
   },
   "outputs": [],
   "source": [
    "######### Discrete Cosine Transform\n",
    "from scipy.fftpack import fft, dct\n",
    "def dct_features(segment):\n",
    "    features = []\n",
    "    for i in range(len(segment)):\n",
    "        dct_coef = dct(segment[i,:], 2, norm='ortho')\n",
    "        power = sum( j*j for j in dct_coef)\n",
    "        features.append(power)\n",
    "    return features"
   ]
  },
  {
   "cell_type": "code",
   "execution_count": 12,
   "metadata": {
    "ExecuteTime": {
     "end_time": "2018-06-06T07:36:33.102396Z",
     "start_time": "2018-06-06T07:36:32.668250Z"
    }
   },
   "outputs": [],
   "source": [
    "####### FUNCTION TO FIND WAVELET FEATURES#######\n",
    "\n",
    "def wavelet_features(epoch):\n",
    "    cA_values = []\n",
    "    cD_values = []\n",
    "    cA_mean = []\n",
    "    cA_std = []\n",
    "    cA_Energy =[]\n",
    "    cD_mean = []\n",
    "    cD_std = []\n",
    "    cD_Energy = []\n",
    "    Entropy_D = []\n",
    "    Entropy_A = []\n",
    "    features = []\n",
    "    for i in range(len(epoch)):\n",
    "        cA,cD=pywt.dwt(epoch[i,:],'coif1')\n",
    "        cA_values.append(cA)\n",
    "        cD_values.append(cD)\t\t#calculating the coefficients of wavelet transform.\n",
    "    for x in range(len(epoch)):   \n",
    "        cA_Energy.append(abs(np.sum(np.square(cA_values[x]))))\n",
    "        features.append(abs(np.sum(np.square(cA_values[x]))))\n",
    "        \n",
    "    for x in range(len(epoch)):      \n",
    "        cD_Energy.append(abs(np.sum(np.square(cD_values[x]))))\n",
    "        features.append(abs(np.sum(np.square(cD_values[x]))))\n",
    "        \n",
    "    return features"
   ]
  },
  {
   "cell_type": "code",
   "execution_count": 13,
   "metadata": {
    "ExecuteTime": {
     "end_time": "2018-06-06T07:37:43.182515Z",
     "start_time": "2018-06-06T07:36:33.106060Z"
    }
   },
   "outputs": [
    {
     "name": "stderr",
     "output_type": "stream",
     "text": [
      "/home/singh/miniconda3/envs/data2/lib/python2.7/site-packages/scipy/signal/spectral.py:1773: UserWarning: nperseg = 256 is greater than input length  = 50, using nperseg = 50\n",
      "  .format(nperseg, input_length))\n"
     ]
    }
   ],
   "source": [
    "## FULL FEATURES DICTIONARY\n",
    "\n",
    "# Dictionary with band power features\n",
    "#form the dictionary using bandpower features where each column is a data point.\n",
    "\n",
    "#For class 1\n",
    "dictionary1 = []\n",
    "dictionary2 = []\n",
    "dictionary3 = []\n",
    "for i in range(len(final_epoch.axes[0])):\n",
    "    segment = final_epoch.data[i]\n",
    "    segment = np.array(segment)\n",
    "    segment = np.transpose(segment)\n",
    "    \n",
    "   \n",
    "    features1 = bandpowers(segment)  ## Comment the dictionaries not used\n",
    "    #features = logvariance(segment)\n",
    "    \n",
    "    features2 = wavelet_features(segment)\n",
    "    features3 = dct_features(segment)\n",
    "    \n",
    "    dictionary1.append(features1)\n",
    "    dictionary2.append(features2)\n",
    "    dictionary3.append(features3)\n",
    "    \n",
    "    \n",
    "dictionary1 = np.array(dictionary1)\n",
    "dictionary2 = np.array(dictionary2)\n",
    "dictionary3 = np.array(dictionary3)\n",
    "\n",
    "\n",
    "\n",
    "dictionary_bandpower  = dictionary1\n",
    "dictionary_wavelet = dictionary2\n",
    "dictionary_dct = dictionary3\n",
    "\n",
    "\n",
    "targets = final_epoch.axes[0]\n",
    "\n",
    "\n",
    "\n"
   ]
  },
  {
   "cell_type": "code",
   "execution_count": 14,
   "metadata": {
    "ExecuteTime": {
     "end_time": "2018-06-06T07:37:45.809577Z",
     "start_time": "2018-06-06T07:37:45.731334Z"
    }
   },
   "outputs": [
    {
     "data": {
      "text/plain": [
       "(448, 236)"
      ]
     },
     "execution_count": 14,
     "metadata": {},
     "output_type": "execute_result"
    }
   ],
   "source": [
    "dictionary_wavelet.shape"
   ]
  },
  {
   "cell_type": "code",
   "execution_count": 15,
   "metadata": {
    "ExecuteTime": {
     "end_time": "2018-06-06T07:38:13.564229Z",
     "start_time": "2018-06-06T07:37:45.820302Z"
    }
   },
   "outputs": [],
   "source": [
    "#FOr wavelet\n",
    "\n",
    "from scipy.sparse import coo_matrix\n",
    "X_sparse = coo_matrix(dictionary_wavelet)\n",
    "\n",
    "from sklearn.utils import resample\n",
    "dictionary_wavelet, X_sparse, ywe = resample(dictionary_wavelet, X_sparse,targets , random_state=0)"
   ]
  },
  {
   "cell_type": "code",
   "execution_count": 16,
   "metadata": {
    "ExecuteTime": {
     "end_time": "2018-06-06T07:38:13.577937Z",
     "start_time": "2018-06-06T07:38:13.567937Z"
    }
   },
   "outputs": [],
   "source": [
    "#For Band Power\n",
    "\n",
    "from scipy.sparse import coo_matrix\n",
    "X_sparse = coo_matrix(dictionary_bandpower)\n",
    "\n",
    "from sklearn.utils import resample\n",
    "dictionary_bandpower, X_sparse, ybp = resample(dictionary_bandpower, X_sparse,targets , random_state=0)"
   ]
  },
  {
   "cell_type": "code",
   "execution_count": 17,
   "metadata": {
    "ExecuteTime": {
     "end_time": "2018-06-06T07:38:13.744710Z",
     "start_time": "2018-06-06T07:38:13.581809Z"
    }
   },
   "outputs": [],
   "source": [
    "#For DCT\n",
    "\n",
    "from scipy.sparse import coo_matrix\n",
    "X_sparse = coo_matrix(dictionary_dct)\n",
    "\n",
    "from sklearn.utils import resample\n",
    "dictionary_dct, X_sparse, y = resample(dictionary_dct, X_sparse,targets , random_state=0)"
   ]
  },
  {
   "cell_type": "code",
   "execution_count": 18,
   "metadata": {
    "ExecuteTime": {
     "end_time": "2018-06-06T07:38:14.040163Z",
     "start_time": "2018-06-06T07:38:13.748734Z"
    }
   },
   "outputs": [
    {
     "name": "stdout",
     "output_type": "stream",
     "text": [
      "KFold(n_splits=10, random_state=30, shuffle=True)\n"
     ]
    }
   ],
   "source": [
    "from sklearn.model_selection import KFold\n",
    "\n",
    "#dictionary = dictionary_bandpower\n",
    "dictionary = dictionary_wavelet\n",
    "#dictionary = dictionary_dct\n",
    "\n",
    "kf = KFold(n_splits=10,random_state = 30, shuffle = True)\n",
    "kf.get_n_splits(dictionary)\n",
    "\n",
    "y_classifier1 = []\n",
    "y_classifier2 = []\n",
    "y_classifier3 = []\n",
    "y_classifier4 = []\n",
    "\n",
    "\n",
    "y_all1 = []\n",
    "y_all2 = []\n",
    "y_all3 = []\n",
    "y_all4 = []\n",
    "y_example_test = []\n",
    "\n",
    "print(kf)\n",
    "\n",
    "\n",
    "\n",
    "y_final_test = []"
   ]
  },
  {
   "cell_type": "code",
   "execution_count": 19,
   "metadata": {
    "ExecuteTime": {
     "end_time": "2018-06-06T07:38:14.621422Z",
     "start_time": "2018-06-06T07:38:14.044087Z"
    }
   },
   "outputs": [],
   "source": [
    "\n",
    "def calculate_accuracy(Xts,yts,D,class1,class2,n):\n",
    "    y_pred1 = []\n",
    "    y_pred2 = []\n",
    "    y_pred3 = []\n",
    "    y_pred4 = []\n",
    "    diff = []\n",
    "    counter1 = 0\n",
    "    counter2 = 0\n",
    "    \n",
    "    sigma_1 = metrics.pairwise.euclidean_distances(dictionary_wavelet.transpose())\n",
    "    sigma = np.sum(sigma_1)/((dictionary_wavelet.shape[1])*(dictionary_wavelet.shape[1]))\n",
    "    \n",
    "    for i in range(len(Xts)):\n",
    "        features = Xts[i]\n",
    "        \n",
    "        # Find Eucledian distance between single test case with all atoms \n",
    "        # in dictionary and store in vector(Weights) of size equal to number of test cases.\n",
    "        Weights = np.zeros((D.shape[1],))\n",
    "        #for j in range(D.shape[1]):\n",
    "         #   Weights[j] = spatial.distance.euclidean(features, D.transpose()[j])\n",
    "        \n",
    "        Weights = metrics.pairwise.euclidean_distances(D.transpose(), features.reshape(1,-1)).flatten()\n",
    "        \n",
    "        # Apply formula w_i = exp(-1*dist(y,d_i)/sigma) on vector, elementwise.\n",
    "        # Subtract from maximum to normalize.\n",
    "        weights = np.exp(-1*Weights/sigma)\n",
    "        weights = np.amax(weights) - weights\n",
    "        \n",
    "        # Get new weighted dictionary by multiplying weights to D.\n",
    "        D_dash = (D)*weights\n",
    "        \n",
    "        # Apply OMP with new dictionary (using old code)\n",
    "        omp = OrthogonalMatchingPursuit(n_nonzero_coefs=3)\n",
    "        omp.fit(D_dash,features)\n",
    "        coef = omp.coef_\n",
    "        \n",
    "        p = 0\n",
    "        q = 0\n",
    "        l = 0\n",
    "        m = 0\n",
    "        a = 0\n",
    "        b = 0\n",
    "        \n",
    "                \n",
    "        list1 = coef[0:min(class1,class2)]\n",
    "        list2 = coef[min(class1,class2)+1:2*min(class1,class2)]\n",
    "        \n",
    "        c1 = (sum(z*z for z in list1))**(1/2.0) \n",
    "        c2 = (sum(z*z for z in list2))**(1/2.0) \n",
    "        \n",
    "        p = np.std(list1)\n",
    "        q = np.std(list2)\n",
    "        \n",
    "        a = max(list1)\n",
    "        b = max(list2)\n",
    "        \n",
    "        for ko in range(min(class1,class2)):\n",
    "            l = l + coef[ko]\n",
    "        \n",
    "        for io in xrange(min(class1,class2)+1,2*min(class1,class2)):\n",
    "            m = m + coef[io]\n",
    "            \n",
    "        if p > q:\n",
    "            y_pred1.append(0)\n",
    "          \n",
    "        else:\n",
    "            y_pred1.append(1)\n",
    "            if(yts[i] != 0):\n",
    "                if(counter1==0):\n",
    "                    counter1 +=1\n",
    "                    idx_r, = coef.nonzero()\n",
    "                    #plt.xlim(0, len(coef))\n",
    "                    #plt.title(\"Sparse Signal\")\n",
    "                    #plt.stem(idx_r, coef[idx_r])\n",
    "                    #plt.show()\n",
    "            \n",
    "        if l>m:\n",
    "            y_pred2.append(0)\n",
    "        else:\n",
    "            y_pred2.append(1)\n",
    "        \n",
    "        if a>b:\n",
    "            y_pred3.append(0)\n",
    "        else:\n",
    "            y_pred3.append(1)\n",
    "            \n",
    "        if c1 > c2:\n",
    "            y_pred4.append(0)\n",
    "        else:\n",
    "            y_pred4.append(1)\n",
    "            \n",
    "    p1 = metrics.accuracy_score(yts, y_pred4, normalize=True, sample_weight=None)\n",
    "    p2 = metrics.accuracy_score(yts, y_pred3, normalize=True, sample_weight=None)\n",
    "    p3 = metrics.accuracy_score(yts, y_pred1, normalize=True, sample_weight=None)\n",
    "    p4 = metrics.accuracy_score(yts, y_pred2, normalize=True, sample_weight=None)\n",
    "    print('class1', p1)  \n",
    "    \n",
    "    print('class2', p2) \n",
    "    \n",
    "    print('class3', p3)\n",
    "    \n",
    "    print('class4', p4)\n",
    "    \n",
    "    print('\\n')\n",
    "    \n",
    "    \n",
    "    return y_pred4,y_pred3,y_pred1,y_pred2, p1, p2, p3, p4\n",
    "    \n",
    "\n"
   ]
  },
  {
   "cell_type": "code",
   "execution_count": 27,
   "metadata": {
    "ExecuteTime": {
     "end_time": "2018-06-06T07:39:50.140795Z",
     "start_time": "2018-06-06T07:39:49.232950Z"
    }
   },
   "outputs": [
    {
     "name": "stdout",
     "output_type": "stream",
     "text": [
      "KFold(n_splits=10, random_state=10, shuffle=True)\n",
      "('class1', 0.97777777777777775)\n",
      "('class2', 0.97777777777777775)\n",
      "('class3', 0.97777777777777775)\n",
      "('class4', 0.97777777777777775)\n",
      "\n",
      "\n",
      "('class1', 0.91111111111111109)\n",
      "('class2', 0.91111111111111109)\n",
      "('class3', 0.91111111111111109)\n",
      "('class4', 0.91111111111111109)\n",
      "\n",
      "\n",
      "('class1', 0.91111111111111109)\n",
      "('class2', 0.91111111111111109)\n",
      "('class3', 0.91111111111111109)\n",
      "('class4', 0.91111111111111109)\n",
      "\n",
      "\n",
      "('class1', 1.0)\n",
      "('class2', 1.0)\n",
      "('class3', 1.0)\n",
      "('class4', 1.0)\n",
      "\n",
      "\n",
      "('class1', 0.97777777777777775)\n",
      "('class2', 0.97777777777777775)\n",
      "('class3', 0.97777777777777775)\n",
      "('class4', 0.97777777777777775)\n",
      "\n",
      "\n",
      "('class1', 0.9555555555555556)\n",
      "('class2', 0.9555555555555556)\n",
      "('class3', 0.9555555555555556)\n",
      "('class4', 0.9555555555555556)\n",
      "\n",
      "\n",
      "('class1', 0.9555555555555556)\n",
      "('class2', 0.9555555555555556)\n",
      "('class3', 0.9555555555555556)\n",
      "('class4', 0.9555555555555556)\n",
      "\n",
      "\n",
      "('class1', 0.97777777777777775)\n",
      "('class2', 0.97777777777777775)\n",
      "('class3', 0.97777777777777775)\n",
      "('class4', 0.97777777777777775)\n",
      "\n",
      "\n",
      "('class1', 0.90909090909090906)\n",
      "('class2', 0.90909090909090906)\n",
      "('class3', 0.90909090909090906)\n",
      "('class4', 0.90909090909090906)\n",
      "\n",
      "\n",
      "('class1', 0.97727272727272729)\n",
      "('class2', 0.97727272727272729)\n",
      "('class3', 0.97727272727272729)\n",
      "('class4', 0.97727272727272729)\n",
      "\n",
      "\n",
      "('class1_avg', 0.95530303030303032)\n",
      "('class2_avg', 0.95530303030303032)\n",
      "('class3_avg', 0.95530303030303032)\n",
      "('class4_avg', 0.95530303030303032)\n",
      "--- 0.848510980606 seconds ---\n"
     ]
    }
   ],
   "source": [
    "## K fold cross validation\n",
    "import time\n",
    "from sklearn.model_selection import KFold\n",
    "\n",
    "#dictionary = dictionary_bandpower\n",
    "dictionary = dictionary_wavelet\n",
    "#dictionary = dictionary_dct\n",
    "\n",
    "kf = KFold(n_splits=10, random_state=10, shuffle=True)\n",
    "kf.get_n_splits(dictionary)\n",
    "\n",
    "y_classifier1 = []\n",
    "y_classifier2 = []\n",
    "y_classifier3 = []\n",
    "y_classifier4 = []\n",
    "\n",
    "y_all1 = []\n",
    "y_all2 = []\n",
    "y_all3 = []\n",
    "y_all4 = []\n",
    "y_example_test = []\n",
    "\n",
    "psum1 = 0\n",
    "psum2 = 0\n",
    "psum3 = 0\n",
    "psum4 = 0\n",
    "\n",
    "y_final_test = []\n",
    "\n",
    "print(kf)\n",
    "\n",
    "start_time = time.time()\n",
    "\n",
    "for train_index, test_index in kf.split(dictionary):\n",
    "    X_train, X_test = dictionary[train_index], dictionary[test_index]\n",
    "    y_train, y_test = ywe[train_index], ywe[test_index]\n",
    "    class1 = 0\n",
    "    class2 = 0\n",
    "    for i in range(len(y_train)):\n",
    "        if (y_train[i] == 0):\n",
    "            class1 += 1\n",
    "        else:\n",
    "            class2 += 1\n",
    "    reb_y = []\n",
    "    reb_dic = []\n",
    "    count = 0\n",
    "    iterator = 0\n",
    "    while (count < min(class1, class2)):\n",
    "        if y_train[iterator] == 0:\n",
    "            reb_dic.append(X_train[iterator])\n",
    "            reb_y.append(0)\n",
    "            count += 1\n",
    "        iterator += 1\n",
    "\n",
    "    count = 0\n",
    "    iterator = 0\n",
    "    while (count < min(class1, class2)):\n",
    "        if y_train[iterator] == 1:\n",
    "            reb_dic.append(X_train[iterator])\n",
    "            reb_y.append(1)\n",
    "            count += 1\n",
    "        iterator += 1\n",
    "    reb_dictionary = np.array(reb_dic)\n",
    "    reb_dictionary = reb_dictionary.transpose()\n",
    "    y_classifier1, y_classifier2, y_classifier3, y_classifier4, p1, p2, p3, p4 = calculate_accuracy(\n",
    "        X_test, y_test, reb_dictionary, class1, class2, 5)\n",
    "    psum1 = psum1 + p1\n",
    "    psum2 = psum2 + p2\n",
    "    psum3 = psum3 + p3\n",
    "    psum4 = psum4 + p4\n",
    "\n",
    "    y_all1.extend(y_classifier1)\n",
    "    y_all2.extend(y_classifier2)\n",
    "    y_all3.extend(y_classifier3)\n",
    "    y_all4.extend(y_classifier4)\n",
    "\n",
    "    y_final_test.extend(y_test)\n",
    "    y_example_test = y_test\n",
    "print('class1_avg', psum1/10.0)\n",
    "print('class2_avg', psum2/10.0)\n",
    "print('class3_avg', psum3/10.0)\n",
    "print('class4_avg', psum4/10.0)\n",
    "print(\"--- %s seconds ---\" % (time.time() - start_time))"
   ]
  },
  {
   "cell_type": "code",
   "execution_count": 29,
   "metadata": {
    "ExecuteTime": {
     "end_time": "2018-06-06T07:40:43.438420Z",
     "start_time": "2018-06-06T07:40:43.423639Z"
    }
   },
   "outputs": [
    {
     "name": "stdout",
     "output_type": "stream",
     "text": [
      "('class1', 1.0)\n",
      "('class2', 1.0)\n",
      "('class3', 1.0)\n",
      "('class4', 1.0)\n",
      "\n",
      "\n",
      "--- 0.00800108909607 seconds ---\n"
     ]
    }
   ],
   "source": [
    "# Test case running time for 1 test case\n",
    "start_time = time.time()\n",
    "y_classifier1,y_classifier2,y_classifier3,y_classifier4 ,a1,a2,a3,a4= calculate_accuracy(np.reshape(X_test[0],(1,-1)), np.reshape(y_test[0],(1,-1)),reb_dictionary,class1,class2,5)\n",
    "print(\"--- %s seconds ---\" % (time.time() - start_time))"
   ]
  },
  {
   "cell_type": "code",
   "execution_count": 62,
   "metadata": {
    "collapsed": true
   },
   "outputs": [],
   "source": [
    "import itertools\n",
    "import numpy as np\n",
    "import matplotlib.pyplot as plt\n",
    "\n",
    "from sklearn import svm, datasets\n",
    "from sklearn.model_selection import train_test_split\n",
    "from sklearn.metrics import confusion_matrix\n",
    "\n",
    "\n",
    "def plot_confusion_matrix(cm, classes,\n",
    "                          normalize=False,\n",
    "                          title='Confusion matrix',\n",
    "                          cmap=plt.cm.Greens):\n",
    "    \"\"\"\n",
    "    This function prints and plots the confusion matrix.\n",
    "    Normalization can be applied by setting `normalize=True`.\n",
    "    \"\"\"\n",
    "    plt.imshow(cm, interpolation='nearest', cmap=cmap)\n",
    "    plt.title(title)\n",
    "    plt.colorbar()\n",
    "    tick_marks = np.arange(len(classes))\n",
    "    plt.xticks(tick_marks, classes, rotation=45)\n",
    "    plt.yticks(tick_marks, classes)\n",
    "\n",
    "    if normalize:\n",
    "        cm = cm.astype('float') / cm.sum(axis=1)[:, np.newaxis]\n",
    "        print(\"Normalized confusion matrix\")\n",
    "    else:\n",
    "        print('Confusion matrix, without normalization')\n",
    "\n",
    "    print(cm)\n",
    "\n",
    "    thresh = cm.max() / 2.\n",
    "    for i, j in itertools.product(range(cm.shape[0]), range(cm.shape[1])):\n",
    "        plt.text(j, i, cm[i, j],\n",
    "                 horizontalalignment=\"center\",\n",
    "                 color=\"white\" if cm[i, j] > thresh else \"black\")\n",
    "\n",
    "    plt.tight_layout()\n",
    "    plt.ylabel('True label')\n",
    "    plt.xlabel('Predicted label')"
   ]
  },
  {
   "cell_type": "code",
   "execution_count": 63,
   "metadata": {},
   "outputs": [
    {
     "name": "stdout",
     "output_type": "stream",
     "text": [
      "Confusion matrix, without normalization\n",
      "[[645   2]\n",
      " [  4 693]]\n",
      "Normalized confusion matrix\n",
      "[[ 1.    0.  ]\n",
      " [ 0.01  0.99]]\n"
     ]
    },
    {
     "data": {
      "image/png": "[encoded data removed]",
      "text/plain": [
       "<matplotlib.figure.Figure at 0x14eefe750>"
      ]
     },
     "metadata": {},
     "output_type": "display_data"
    },
    {
     "data": {
      "image/png": "[encoded data removed]",
      "text/plain": [
       "<matplotlib.figure.Figure at 0x14eefc8d0>"
      ]
     },
     "metadata": {},
     "output_type": "display_data"
    }
   ],
   "source": [
    "##PLOT CONFUSION MATRIX\n",
    "cnf_matrix = confusion_matrix(y_final_test, y_all3)\n",
    "np.set_printoptions(precision=2)\n",
    "class_names = [\"Right Hand\",\"Foot\"]\n",
    "\n",
    "# Plot non-normalized confusion matrix\n",
    "plt.figure()\n",
    "plot_confusion_matrix(cnf_matrix, classes=class_names,title='Confusion matrix, without normalization')\n",
    "\n",
    "# Plot normalized confusion matrix\n",
    "plt.figure()\n",
    "plot_confusion_matrix(cnf_matrix, classes=class_names, normalize=True,title='Normalized confusion matrix')\n",
    "plt.show()"
   ]
  },
  {
   "cell_type": "code",
   "execution_count": 64,
   "metadata": {
    "collapsed": true
   },
   "outputs": [],
   "source": [
    "#calculate score\n",
    "from sklearn.metrics import f1_score\n",
    "y_score = f1_score(y_final_test, y_all1, average=None)"
   ]
  },
  {
   "cell_type": "code",
   "execution_count": 65,
   "metadata": {},
   "outputs": [
    {
     "data": {
      "text/plain": [
       "array([ 1.,  1.])"
      ]
     },
     "execution_count": 65,
     "metadata": {},
     "output_type": "execute_result"
    }
   ],
   "source": [
    "y_score"
   ]
  },
  {
   "cell_type": "code",
   "execution_count": 66,
   "metadata": {},
   "outputs": [
    {
     "data": {
      "image/png": "[encoded data removed]",
      "text/plain": [
       "<matplotlib.figure.Figure at 0x152dd4210>"
      ]
     },
     "metadata": {},
     "output_type": "display_data"
    }
   ],
   "source": [
    "## Plot ROC curve\n",
    "\n",
    "count = 0\n",
    "iterator = 0\n",
    "real0 = []\n",
    "pred0 = []\n",
    "\n",
    "real1 = []\n",
    "pred1 = []\n",
    "\n",
    "\n",
    "real2 = []\n",
    "pred2 = []\n",
    "\n",
    "\n",
    "real3 = []\n",
    "pred3 = []\n",
    "\n",
    "while(iterator < len(y_final_test)):\n",
    "    if(y_final_test[iterator] == 0):\n",
    "        real0.append(0)\n",
    "        if(y_all1[iterator] == 0):\n",
    "            pred0.append(0)\n",
    "        else:\n",
    "            pred0.append(1)\n",
    "    else:\n",
    "        real0.append(1)\n",
    "        if(y_all1[iterator] == 0):\n",
    "            pred0.append(0)\n",
    "        else:\n",
    "            pred0.append(1)\n",
    "    iterator += 1\n",
    "    \n",
    "iterator = 0\n",
    "while(iterator < len(y_final_test)):\n",
    "    if(y_final_test[iterator] == 1):\n",
    "        real1.append(1)\n",
    "        if(y_all1[iterator] == 1):\n",
    "            pred1.append(1)\n",
    "        else:\n",
    "            pred1.append(0)\n",
    "    else:\n",
    "        real1.append(0)\n",
    "        if(y_all1[iterator] == 1):\n",
    "            pred1.append(1)\n",
    "        else:\n",
    "            pred1.append(0)\n",
    "    iterator += 1\n",
    "    \n",
    "    \n",
    "\n",
    "\n",
    "import numpy as np\n",
    "import matplotlib.pyplot as plt\n",
    "from itertools import cycle\n",
    "\n",
    "from sklearn import svm, datasets\n",
    "from sklearn.metrics import roc_curve, auc\n",
    "from sklearn.model_selection import train_test_split\n",
    "from sklearn.preprocessing import label_binarize\n",
    "from sklearn.multiclass import OneVsRestClassifier\n",
    "from scipy import interp\n",
    "\n",
    "fpr, tpr, _ = roc_curve(real0, pred0)\n",
    "roc_auc = auc(fpr, tpr)\n",
    "\n",
    "fpr1, tpr1, _ = roc_curve(real1, pred1)\n",
    "roc_auc1 = auc(fpr1, tpr1)\n",
    "\n",
    "plt.figure()\n",
    "lw = 2\n",
    "plt.plot(fpr, tpr, color='blue',\n",
    "         lw=lw, label='Right hand class ROC curve (area = %0.2f)' % roc_auc)\n",
    "\n",
    "plt.plot(fpr1, tpr1, color='green',\n",
    "         lw=lw, label='Right foot class ROC curve (area = %0.2f)' % roc_auc1)\n",
    "\n",
    "plt.plot([0, 1], [0, 1], color='darkorange', lw=lw, linestyle='--')\n",
    "plt.xlim([0.0, 1.0])\n",
    "plt.ylim([0.0, 1.05])\n",
    "plt.xlabel('False Positive Rate')\n",
    "plt.ylabel('True Positive Rate')\n",
    "plt.title('Receiver operating characteristic')\n",
    "plt.legend(loc=\"lower right\")\n",
    "plt.show()"
   ]
  },
  {
   "cell_type": "code",
   "execution_count": 67,
   "metadata": {},
   "outputs": [
    {
     "data": {
      "image/png": "[encoded data removed]",
      "text/plain": [
       "<matplotlib.figure.Figure at 0x117ba4c10>"
      ]
     },
     "metadata": {},
     "output_type": "display_data"
    }
   ],
   "source": [
    "## Plot precision recall curve\n",
    "\n",
    "import matplotlib.pyplot as plt\n",
    "import numpy as np\n",
    "from itertools import cycle\n",
    "\n",
    "from sklearn import svm, datasets\n",
    "from sklearn.metrics import precision_recall_curve\n",
    "from sklearn.metrics import average_precision_score\n",
    "from sklearn.model_selection import train_test_split\n",
    "from sklearn.preprocessing import label_binarize\n",
    "from sklearn.multiclass import OneVsRestClassifier\n",
    "\n",
    "\n",
    "# Compute Precision-Recall and plot curve\n",
    "precision = []\n",
    "recall = []\n",
    "average_precision = []\n",
    "\n",
    "precision, recall,thresholds = precision_recall_curve(real0,pred0)\n",
    "\n",
    "average_precision = average_precision_score(real0,pred0)\n",
    "\n",
    "\n",
    "precision1, recall1,thresholds1 = precision_recall_curve(real1,pred1)\n",
    "\n",
    "average_precision1 = average_precision_score(real1,pred1)\n",
    "\n",
    "\n",
    "# Plot Precision-Recall curve\n",
    "plt.clf()\n",
    "plt.plot(recall, precision, lw=lw, color='blue', label='Right hand class Precision-recall curve (area = {0:0.2f})'\n",
    "                   ''.format(average_precision))\n",
    "\n",
    "plt.plot(recall1, precision1, lw=lw, color='green', label='Right foot class Precision-recall curve (area = {0:0.2f})'\n",
    "                   ''.format(average_precision1))\n",
    "\n",
    "plt.xlabel('Recall')\n",
    "plt.ylabel('Precision')\n",
    "plt.ylim([0.0, 1.05])\n",
    "plt.xlim([0.0, 1.0])\n",
    "plt.title(\"Precision Recall Curve\")\n",
    "\n",
    "plt.legend(loc=\"lower left\")\n",
    "plt.show()\n"
   ]
  },
  {
   "cell_type": "code",
   "execution_count": null,
   "metadata": {
    "collapsed": true
   },
   "outputs": [],
   "source": []
  }
 ],
 "metadata": {
  "kernelspec": {
   "display_name": "Python 2",
   "language": "python",
   "name": "python2"
  },
  "language_info": {
   "codemirror_mode": {
    "name": "ipython",
    "version": 2
   },
   "file_extension": ".py",
   "mimetype": "text/x-python",
   "name": "python",
   "nbconvert_exporter": "python",
   "pygments_lexer": "ipython2",
   "version": "2.7.14"
  }
 },
 "nbformat": 4,
 "nbformat_minor": 1
}
